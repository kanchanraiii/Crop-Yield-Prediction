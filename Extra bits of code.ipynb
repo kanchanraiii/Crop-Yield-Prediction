{
 "cells": [
  {
   "cell_type": "markdown",
   "id": "e676e84d-e5a3-4d25-8333-709bce552869",
   "metadata": {},
   "source": [
    "## These lines of code were used to combine multiple models and determine using Stacking the best fit model combination"
   ]
  },
  {
   "cell_type": "markdown",
   "id": "82dccdbf-0234-4f58-8f6e-6e61931b5a86",
   "metadata": {},
   "source": [
    "## Stacking Models"
   ]
  },
  {
   "cell_type": "raw",
   "id": "a0ca5204-5b6e-4b02-805a-628637ecfbc7",
   "metadata": {},
   "source": [
    "from sklearn.ensemble import StackingRegressor"
   ]
  },
  {
   "cell_type": "raw",
   "id": "32b2570e-c079-4356-975e-f9066fc6215b",
   "metadata": {},
   "source": [
    "estimators=[('lr',LinearRegression),\n",
    "            ('rr',Ridge),\n",
    "            ('lar',Lasso),\n",
    "            ('dtr',DecisionTreeRegressor),\n",
    "            ('rfr',RandomForestRegressor),\n",
    "            ('adb',AdaBoostRegressor),\n",
    "            ('knn',KNeighborsRegressor),\n",
    "            ('xgb',XGBRegressor()),]"
   ]
  },
  {
   "cell_type": "raw",
   "id": "2f69a8de-67f3-4f5f-a62e-c8a8d3303ab0",
   "metadata": {},
   "source": [
    "# List to store results\n",
    "results = []\n",
    "\n",
    "# Loop over combinations\n",
    "for i, (name_i, model_i) in enumerate(estimators):\n",
    "    for j, (name_j, model_j) in enumerate(estimators):\n",
    "        if i != j:\n",
    "            base_estimators = [(name_i, model_i()), (name_j, model_j())]\n",
    "            for k, (name_k, model_k) in enumerate(estimators):\n",
    "                if k != i and k != j:\n",
    "                    stack = StackingRegressor(\n",
    "                        estimators=base_estimators,\n",
    "                        final_estimator=model_k(),\n",
    "                        cv=10,\n",
    "                        n_jobs=-1\n",
    "                    )\n",
    "                    stack.fit(X_train, Y_train)\n",
    "                    Y_pred = stack.predict(X_test)\n",
    "                    mae = mean_absolute_error(Y_test, Y_pred)\n",
    "                    mse = mean_squared_error(Y_test, Y_pred)\n",
    "                    r2 = r2_score(Y_test, Y_pred)\n",
    "                    results.append((base_estimators, name_k, mae, mse, r2))\n",
    "\n",
    "# Find the best combination\n",
    "best_combination = max(results, key=lambda x: x[4])\n",
    "print(f\"Best combination: Base models = {[name for name, _ in best_combination[0]]}, Meta model = {best_combination[1]}\")\n",
    "print(f\"MAE: {best_combination[2]}, MSE: {best_combination[3]}, R2 Score: {best_combination[4]}\")"
   ]
  },
  {
   "cell_type": "raw",
   "id": "88cbe514-43f3-41e5-beda-8156de595ee9",
   "metadata": {},
   "source": [
    "estimators=[('xgb',XGBRegressor(colsample_bytree= 1.0\n",
    "gamma= 0.1, learning_rate= 0.1, max_depth= 3, n_estimators= 300, subsample= 1.0)),\n",
    "            ('cbr',CatBoostRegressor()),\n",
    "            ('dtr',DecisionTreeRegressor()),\n",
    "            ('rfr',RandomForestRegressor())]"
   ]
  },
  {
   "cell_type": "raw",
   "id": "0d2be651-0b0e-4dc9-a9b1-1c4c036658b9",
   "metadata": {},
   "source": [
    "str=StackingRegressor(estimators=estimators,final_estimator=DecisionTreeRegressor(),cv=10)\n",
    "str.fit(X_train,Y_train)"
   ]
  },
  {
   "cell_type": "code",
   "execution_count": null,
   "id": "6b85d29b-c449-47ab-973a-bfa30601acb4",
   "metadata": {},
   "outputs": [],
   "source": []
  }
 ],
 "metadata": {
  "kernelspec": {
   "display_name": "Python 3 (ipykernel)",
   "language": "python",
   "name": "python3"
  },
  "language_info": {
   "codemirror_mode": {
    "name": "ipython",
    "version": 3
   },
   "file_extension": ".py",
   "mimetype": "text/x-python",
   "name": "python",
   "nbconvert_exporter": "python",
   "pygments_lexer": "ipython3",
   "version": "3.11.1"
  }
 },
 "nbformat": 4,
 "nbformat_minor": 5
}
